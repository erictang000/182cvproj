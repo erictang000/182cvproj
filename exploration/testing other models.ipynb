{
 "cells": [
  {
   "cell_type": "code",
   "execution_count": 1,
   "metadata": {},
   "outputs": [],
   "source": [
    "import pathlib\n",
    "import numpy as np\n",
    "import torch\n",
    "import torchvision\n",
    "import torchvision.transforms as transforms\n",
    "import matplotlib.pyplot as plt\n",
    "\n",
    "from torch import nn\n",
    "import tqdm\n",
    "import copy"
   ]
  },
  {
   "cell_type": "code",
   "execution_count": 2,
   "metadata": {},
   "outputs": [],
   "source": [
    "import timm"
   ]
  },
  {
   "cell_type": "markdown",
   "metadata": {},
   "source": [
    "## Setup"
   ]
  },
  {
   "cell_type": "code",
   "execution_count": 7,
   "metadata": {},
   "outputs": [
    {
     "name": "stdout",
     "output_type": "stream",
     "text": [
      "Discovered 120000 images\n"
     ]
    }
   ],
   "source": [
    "# Create a pytorch dataset\n",
    "data_dir = pathlib.Path('/data/tiny-imagenet/')\n",
    "image_count = len(list(data_dir.glob('**/*.JPEG')))\n",
    "CLASS_NAMES = np.array([item.name for item in (data_dir / 'train').glob('*')])\n",
    "print('Discovered {} images'.format(image_count))\n",
    "\n",
    "# Create the training data generator\n",
    "batch_size = 32\n",
    "im_height = 64\n",
    "im_width = 64\n",
    "\n",
    "# data_transforms = transforms.Compose([\n",
    "#     transforms.ToTensor(),\n",
    "#     # transforms.Normalize((0, 0, 0), tuple(np.sqrt((255, 255, 255)))),\n",
    "# ])\n",
    "\n",
    "data_transforms = transforms.Compose([\n",
    "    transforms.Resize((224,224)),\n",
    "#     transforms.RandomCrop(64, padding=8),\n",
    "    transforms.RandomHorizontalFlip(),\n",
    "    transforms.ToTensor(),\n",
    "    transforms.Normalize(mean=[0.485, 0.456, 0.406], std=[0.229, 0.224, 0.225])\n",
    "    ])\n",
    "\n",
    "transform_test = transforms.Compose([\n",
    "    transforms.Resize((224,224)),\n",
    "    transforms.ToTensor(),\n",
    "    transforms.Normalize(mean=[0.485, 0.456, 0.406], std=[0.229, 0.224, 0.225])\n",
    "    ])\n",
    "train_set = torchvision.datasets.ImageFolder(data_dir / 'train', data_transforms)\n",
    "train_loader = torch.utils.data.DataLoader(train_set, batch_size=batch_size,\n",
    "                                           shuffle=True, num_workers=4, pin_memory=True)\n",
    "device = torch.device(\"cuda:0\" if torch.cuda.is_available() else \"cpu\")"
   ]
  },
  {
   "cell_type": "markdown",
   "metadata": {},
   "source": [
    "## Domain Adaptation"
   ]
  },
  {
   "cell_type": "code",
   "execution_count": 8,
   "metadata": {},
   "outputs": [],
   "source": [
    "# ## Test time batchnorm update with no prior\n",
    "\n",
    "def update_bn_params(model, val_loader, num_bn_updates, gpu):\n",
    "    val_loader = torch.utils.data.DataLoader(val_loader.dataset,\n",
    "                                             batch_size=val_loader.batch_size,\n",
    "                                             shuffle=True, num_workers=val_loader.num_workers)\n",
    "    def use_test_statistics(module):\n",
    "        if isinstance(module, nn.BatchNorm2d):\n",
    "            module.train()\n",
    "    model = copy.deepcopy(model)\n",
    "    model.eval()\n",
    "    model.apply(use_test_statistics)\n",
    "    print(\"Updating BN params (num updates:{})\".format(num_bn_updates))\n",
    "    with torch.no_grad():\n",
    "        for i, (images, target) in enumerate(val_loader):\n",
    "            if i<num_bn_updates:\n",
    "                images = images.cuda(gpu, non_blocking=True)\n",
    "                output = model(images)\n",
    "    print(\"Done.\")\n",
    "    return model\n"
   ]
  },
  {
   "cell_type": "markdown",
   "metadata": {},
   "source": [
    "## Test Particular Model\n",
    "Run to load particular model onto computer"
   ]
  },
  {
   "cell_type": "code",
   "execution_count": 9,
   "metadata": {},
   "outputs": [],
   "source": [
    "model = timm.create_model('inception_resnet_v2', pretrained=True)\n",
    "num_ftrs = model.classif.in_features\n",
    "model.fc =  nn.Sequential(\n",
    "                  nn.Dropout(0.4),\n",
    "                  nn.Linear(num_ftrs, 1024), \n",
    "                  nn.ReLU(),\n",
    "                  nn.Linear(1024, 256),\n",
    "                  nn.ReLU(),\n",
    "                  nn.Linear(256, 200))\n",
    "checkpoint = torch.load('results/inceptionresnetv2_biggerFCN_linear_epoch0.pt')\n",
    "model.load_state_dict(checkpoint['net'])\n",
    "model = model.to(device)\n",
    "# model = torchvision.models.resnet50(pretrained=True)\n",
    "# num_ftrs = model.fc.in_features\n",
    "\n",
    "# model.fc =  nn.Sequential(\n",
    "#                   nn.Linear(num_ftrs, 256), \n",
    "#                   nn.ReLU(),\n",
    "#                   nn.Linear(256, 256),\n",
    "#                   nn.ReLU(),\n",
    "#                   nn.Linear(256, 200))\n",
    "# checkpoint = torch.load('resnet50-pretrainedaugmix-20epochs-nofreeze-aug.pt')\n",
    "# model.load_state_dict(checkpoint['net'])\n",
    "# model = model.to(device)\n"
   ]
  },
  {
   "cell_type": "markdown",
   "metadata": {},
   "source": [
    "Run below to evaluate on validation set"
   ]
  },
  {
   "cell_type": "code",
   "execution_count": 10,
   "metadata": {},
   "outputs": [
    {
     "name": "stderr",
     "output_type": "stream",
     "text": [
      "100%|██████████| 313/313 [00:51<00:00,  6.12it/s]\n"
     ]
    }
   ],
   "source": [
    "validation_set = torchvision.datasets.ImageFolder(data_dir / 'val', transform_test)\n",
    "val_loader = torch.utils.data.DataLoader(validation_set, batch_size=batch_size,\n",
    "                                           shuffle=True, num_workers=4, pin_memory=True)\n",
    "\n",
    "\n",
    "# model = update_bn_params(model, val_loader, 32, device)\n",
    "model.eval()\n",
    "all_preds = []\n",
    "all_labels = []\n",
    "all_losses = []\n",
    "with torch.no_grad():\n",
    "    index = 0\n",
    "    for batch in tqdm.tqdm(val_loader):\n",
    "        inputs = batch[0]\n",
    "        targets = batch[1]\n",
    "        targets = targets.cuda()\n",
    "        inputs = inputs.cuda()\n",
    "        preds = model(inputs)\n",
    "        loss = nn.CrossEntropyLoss()(preds, targets)\n",
    "        all_losses.append(loss.cpu())\n",
    "        all_preds.append(preds.cpu())\n",
    "        all_labels.append(targets.cpu())"
   ]
  },
  {
   "cell_type": "markdown",
   "metadata": {},
   "source": [
    "## Top 1 Accuracy"
   ]
  },
  {
   "cell_type": "code",
   "execution_count": 11,
   "metadata": {},
   "outputs": [
    {
     "name": "stdout",
     "output_type": "stream",
     "text": [
      "Top 1 Validation Accuracy: 0.6638378594249201\n"
     ]
    }
   ],
   "source": [
    "top_preds = [x.argsort(dim=-1)[:,-1:].squeeze() for x in all_preds]\n",
    "correct = 0\n",
    "for idx, batch_preds in enumerate(top_preds):\n",
    "    correct += torch.eq(all_labels[idx], batch_preds).sum()\n",
    "accuracy = correct.item() / (32 * len(all_labels))\n",
    "print(f\"Top 1 Validation Accuracy: {accuracy}\")"
   ]
  },
  {
   "cell_type": "markdown",
   "metadata": {},
   "source": [
    "## Top 3 Accuracy"
   ]
  },
  {
   "cell_type": "code",
   "execution_count": 12,
   "metadata": {},
   "outputs": [
    {
     "name": "stdout",
     "output_type": "stream",
     "text": [
      "Top 3 Validation Accuracy: 0.8087060702875399\n"
     ]
    }
   ],
   "source": [
    "top_preds = [x.argsort(dim=-1)[:,-3:] for x in all_preds]\n",
    "correct = 0\n",
    "for idx, batch_preds in enumerate(top_preds):\n",
    "    correct += torch.eq(all_labels[idx], batch_preds[:,0:1].squeeze()).sum()\n",
    "    correct += torch.eq(all_labels[idx], batch_preds[:,1:2].squeeze()).sum()\n",
    "\n",
    "    correct += torch.eq(all_labels[idx], batch_preds[:,2:3].squeeze()).sum()\n",
    "\n",
    "accuracy = correct.item() / (32 * len(all_labels))\n",
    "print(f\"Top 3 Validation Accuracy: {accuracy}\")"
   ]
  },
  {
   "cell_type": "code",
   "execution_count": null,
   "metadata": {},
   "outputs": [],
   "source": [
    "## with BN update: top 1: 39.3% top 3: 57.96%\n",
    "## without BN update"
   ]
  }
 ],
 "metadata": {
  "kernelspec": {
   "display_name": "Python 3.7",
   "language": "python",
   "name": "python3.7"
  },
  "language_info": {
   "codemirror_mode": {
    "name": "ipython",
    "version": 3
   },
   "file_extension": ".py",
   "mimetype": "text/x-python",
   "name": "python",
   "nbconvert_exporter": "python",
   "pygments_lexer": "ipython3",
   "version": "3.7.5"
  }
 },
 "nbformat": 4,
 "nbformat_minor": 4
}
