{
 "cells": [
  {
   "cell_type": "code",
   "execution_count": 2,
   "metadata": {},
   "outputs": [],
   "source": [
    "import pathlib\n",
    "import numpy as np\n",
    "import torch\n",
    "import torchvision\n",
    "import torchvision.transforms as transforms\n",
    "import matplotlib.pyplot as plt\n",
    "\n",
    "from torch import nn\n",
    "import tqdm"
   ]
  },
  {
   "cell_type": "markdown",
   "metadata": {},
   "source": [
    "## Get Data Loaders"
   ]
  },
  {
   "cell_type": "code",
   "execution_count": 33,
   "metadata": {},
   "outputs": [
    {
     "name": "stdout",
     "output_type": "stream",
     "text": [
      "Discovered 120000 images\n"
     ]
    }
   ],
   "source": [
    "# Create a pytorch dataset\n",
    "data_dir = pathlib.Path('/data/tiny-imagenet/')\n",
    "image_count = len(list(data_dir.glob('**/*.JPEG')))\n",
    "CLASS_NAMES = np.array([item.name for item in (data_dir / 'train').glob('*')])\n",
    "print('Discovered {} images'.format(image_count))\n",
    "\n",
    "# Create the training data generator\n",
    "batch_size = 32\n",
    "im_height = 64\n",
    "im_width = 64\n",
    "num_epochs = 30\n",
    "\n",
    "# data_transforms = transforms.Compose([\n",
    "#     transforms.ToTensor(),\n",
    "#     # transforms.Normalize((0, 0, 0), tuple(np.sqrt((255, 255, 255)))),\n",
    "# ])\n",
    "\n",
    "data_transforms = transforms.Compose([\n",
    "    transforms.RandomCrop(64, padding=8),\n",
    "    transforms.RandomHorizontalFlip(),\n",
    "    transforms.ToTensor(),\n",
    "    transforms.Normalize(mean=[0.485, 0.456, 0.406], std=[0.229, 0.224, 0.225])\n",
    "    ])\n",
    "\n",
    "transform_test = transforms.Compose([\n",
    "    transforms.ToTensor(),\n",
    "    transforms.Normalize(mean=[0.485, 0.456, 0.406], std=[0.229, 0.224, 0.225])\n",
    "    ])\n",
    "train_set = torchvision.datasets.ImageFolder(data_dir / 'train', data_transforms)\n",
    "train_loader = torch.utils.data.DataLoader(train_set, batch_size=batch_size,\n",
    "                                           shuffle=True, num_workers=4, pin_memory=True)\n",
    "device = torch.device(\"cuda:0\" if torch.cuda.is_available() else \"cpu\")"
   ]
  },
  {
   "cell_type": "markdown",
   "metadata": {},
   "source": [
    "## Model"
   ]
  },
  {
   "cell_type": "code",
   "execution_count": 85,
   "metadata": {},
   "outputs": [],
   "source": [
    "model = torchvision.models.resnet50(pretrained=True)\n",
    "checkpoint = torch.load('checkpoint.pth.tar')\n",
    "model = nn.DataParallel(model)\n",
    "model.load_state_dict(checkpoint['state_dict'])\n",
    "model = model.module"
   ]
  },
  {
   "cell_type": "code",
   "execution_count": 86,
   "metadata": {},
   "outputs": [],
   "source": [
    "# Create a simple model\n",
    "for param in list(model.parameters())[:-30]:\n",
    "    param.requires_grad = False\n",
    "    \n",
    "# Parameters of newly constructed modules have requires_grad=True by default\n",
    "num_ftrs = model.fc.in_features\n",
    "\n",
    "model.fc =  nn.Sequential(\n",
    "                  nn.Linear(num_ftrs, 256), \n",
    "                  nn.ReLU(),\n",
    "                  nn.Linear(256, 256),\n",
    "                  nn.ReLU(),\n",
    "                  nn.Linear(256, 200))\n",
    "model = model.to(device)\n",
    "# model = Net(len(CLASS_NAMES), im_height, im_width)\n",
    "optim = torch.optim.Adam(\n",
    "    [\n",
    "        {\"params\": list(model.parameters())[-30:-6], \"lr\": 1e-4},\n",
    "        {\"params\": model.fc.parameters(), \"lr\": 1e-3}\n",
    "    ])\n",
    "criterion = nn.CrossEntropyLoss()"
   ]
  },
  {
   "cell_type": "code",
   "execution_count": null,
   "metadata": {},
   "outputs": [
    {
     "name": "stdout",
     "output_type": "stream",
     "text": [
      "training 54.69%: 0.607"
     ]
    }
   ],
   "source": [
    "\n",
    "for i in range(num_epochs):\n",
    "    train_total, train_correct = 0,0\n",
    "    for idx, (inputs, targets) in enumerate(train_loader):\n",
    "        # print(inputs[1])\n",
    "        # plt.imshow(inputs[1].permute(1,2,0))\n",
    "        # plt.show()\n",
    "        inputs, targets = inputs.to(device), targets.to(device)\n",
    "        optim.zero_grad()\n",
    "        outputs = model(inputs)\n",
    "        loss = criterion(outputs, targets)\n",
    "        loss.backward()\n",
    "        optim.step()\n",
    "        _, predicted = outputs.max(1)\n",
    "        train_total += targets.size(0)\n",
    "        train_correct += predicted.eq(targets).sum().item()\n",
    "        # if idx % 100 == 0:\n",
    "        print(\"\\r\", end='')\n",
    "        print(f'training {100 * idx / len(train_loader):.2f}%: {train_correct / train_total:.3f}', end='')\n",
    "    torch.save({\n",
    "        'net': model.state_dict(),\n",
    "    }, 'resnet50-pretrainedaugmix-20epochs-nofreeze-aug.pt')\n",
    "\n",
    "\n",
    "##test #1:0.038 at 5.06%\n"
   ]
  },
  {
   "cell_type": "code",
   "execution_count": null,
   "metadata": {},
   "outputs": [],
   "source": []
  }
 ],
 "metadata": {
  "kernelspec": {
   "display_name": "Python 3.7",
   "language": "python",
   "name": "python3.7"
  },
  "language_info": {
   "codemirror_mode": {
    "name": "ipython",
    "version": 3
   },
   "file_extension": ".py",
   "mimetype": "text/x-python",
   "name": "python",
   "nbconvert_exporter": "python",
   "pygments_lexer": "ipython3",
   "version": "3.7.5"
  }
 },
 "nbformat": 4,
 "nbformat_minor": 4
}
