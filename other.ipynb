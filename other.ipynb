{
 "cells": [
  {
   "cell_type": "code",
   "execution_count": 1,
   "metadata": {},
   "outputs": [],
   "source": [
    "import pathlib\n",
    "import numpy as np\n",
    "import torch\n",
    "import torchvision\n",
    "import torchvision.transforms as transforms\n",
    "# from model import Net\n",
    "import matplotlib.pyplot as plt\n",
    "\n",
    "from torch import nn\n",
    "import tqdm\n",
    "import copy\n",
    "import timm"
   ]
  },
  {
   "cell_type": "markdown",
   "metadata": {},
   "source": [
    "## Setup"
   ]
  },
  {
   "cell_type": "code",
   "execution_count": 2,
   "metadata": {},
   "outputs": [
    {
     "name": "stdout",
     "output_type": "stream",
     "text": [
      "Discovered 120000 images\n"
     ]
    }
   ],
   "source": [
    "# Create a pytorch dataset\n",
    "data_dir = pathlib.Path('/data/tiny-imagenet/')\n",
    "image_count = len(list(data_dir.glob('**/*.JPEG')))\n",
    "CLASS_NAMES = np.array([item.name for item in (data_dir / 'train').glob('*')])\n",
    "print('Discovered {} images'.format(image_count))\n",
    "\n",
    "# Create the training data generator\n",
    "batch_size = 32\n",
    "im_height = 64\n",
    "im_width = 64\n",
    "\n",
    "# data_transforms = transforms.Compose([\n",
    "#     transforms.ToTensor(),\n",
    "#     # transforms.Normalize((0, 0, 0), tuple(np.sqrt((255, 255, 255)))),\n",
    "# ])\n",
    "\n",
    "data_transforms = transforms.Compose([\n",
    "    transforms.Resize((224,224)),\n",
    "#     transforms.RandomCrop(64, padding=8),\n",
    "    transforms.RandomHorizontalFlip(),\n",
    "    transforms.ToTensor(),\n",
    "    transforms.Normalize(mean=[0.485, 0.456, 0.406], std=[0.229, 0.224, 0.225])\n",
    "    ])\n",
    "\n",
    "transform_test = transforms.Compose([\n",
    "    transforms.ToTensor(),\n",
    "    transforms.Normalize(mean=[0.485, 0.456, 0.406], std=[0.229, 0.224, 0.225])\n",
    "    ])\n",
    "train_set = torchvision.datasets.ImageFolder(data_dir / 'train', data_transforms)\n",
    "train_loader = torch.utils.data.DataLoader(train_set, batch_size=batch_size,\n",
    "                                           shuffle=True, num_workers=4, pin_memory=True)\n",
    "device = torch.device(\"cuda:0\" if torch.cuda.is_available() else \"cpu\")"
   ]
  },
  {
   "cell_type": "markdown",
   "metadata": {},
   "source": [
    "## Model"
   ]
  },
  {
   "cell_type": "code",
   "execution_count": 3,
   "metadata": {},
   "outputs": [],
   "source": [
    "model_path = 'deepaugment_and_augmix.pth.tar'\n",
    "output_path = 'deepaug_and_mix.pt'\n",
    "num_epochs = 30\n",
    "\n",
    "\n",
    "model = timm.create_model('inception_resnet_v2', pretrained=True)\n",
    "# checkpoint = torch.load(model_path)\n",
    "# model = nn.DataParallel(model)\n",
    "# model.load_state_dict(checkpoint['state_dict'])\n",
    "# model = model.module\n",
    "# Create a simple model\n",
    "for param in list(model.parameters())[:-30]:\n",
    "    param.requires_grad = False\n",
    "    \n",
    "# Parameters of newly constructed modules have requires_grad=True by default\n",
    "num_ftrs = model.classif.in_features\n",
    "\n",
    "model.fc =  nn.Sequential(\n",
    "                  nn.Dropout(0.4),\n",
    "                  nn.Linear(num_ftrs, 1024), \n",
    "                  nn.ReLU(),\n",
    "                  nn.Linear(1024, 256),\n",
    "                  nn.ReLU(),\n",
    "                  nn.Linear(256, 200))\n",
    "model = model.to(device)\n",
    "# model = Net(len(CLASS_NAMES), im_height, im_width)\n",
    "optim = torch.optim.Adam(\n",
    "    [\n",
    "        {\"params\": list(model.parameters())[-30:-6], \"lr\": 1e-4},\n",
    "        {\"params\": model.fc.parameters(), \"lr\": 1e-3}\n",
    "    ])\n",
    "criterion = nn.CrossEntropyLoss()"
   ]
  },
  {
   "cell_type": "code",
   "execution_count": 4,
   "metadata": {},
   "outputs": [],
   "source": [
    "# model_path = 'deepaugment_and_augmix.pth.tar'\n",
    "# output_path = 'deepaug_and_mix.pt'\n",
    "# num_epochs = 30\n",
    "\n",
    "\n",
    "# model = torchvision.models.resnet50(pretrained=True)\n",
    "# checkpoint = torch.load(model_path)\n",
    "# model = nn.DataParallel(model)\n",
    "# model.load_state_dict(checkpoint['state_dict'])\n",
    "# model = model.module\n",
    "# # Create a simple model\n",
    "# for param in list(model.parameters())[:-30]:\n",
    "#     param.requires_grad = False\n",
    "    \n",
    "# # Parameters of newly constructed modules have requires_grad=True by default\n",
    "# num_ftrs = model.fc.in_features\n",
    "\n",
    "# model.fc =  nn.Sequential(\n",
    "#                   nn.Linear(num_ftrs, 256), \n",
    "#                   nn.ReLU(),\n",
    "#                   nn.Linear(256, 256),\n",
    "#                   nn.ReLU(),\n",
    "#                   nn.Linear(256, 200))\n",
    "# model = model.to(device)\n",
    "# # model = Net(len(CLASS_NAMES), im_height, im_width)\n",
    "# optim = torch.optim.Adam(\n",
    "#     [\n",
    "#         {\"params\": list(model.parameters())[-30:-6], \"lr\": 1e-4},\n",
    "#         {\"params\": model.fc.parameters(), \"lr\": 1e-3}\n",
    "#     ])\n",
    "# criterion = nn.CrossEntropyLoss()"
   ]
  },
  {
   "cell_type": "markdown",
   "metadata": {},
   "source": [
    "## Training"
   ]
  },
  {
   "cell_type": "code",
   "execution_count": null,
   "metadata": {},
   "outputs": [
    {
     "name": "stdout",
     "output_type": "stream",
     "text": [
      "training 61.70%: 0.723"
     ]
    }
   ],
   "source": [
    "\n",
    "for i in range(num_epochs):\n",
    "    train_total, train_correct = 0,0\n",
    "    for idx, (inputs, targets) in enumerate(train_loader):\n",
    "        # print(inputs[1])\n",
    "        # plt.imshow(inputs[1].permute(1,2,0))\n",
    "        # plt.show()\n",
    "        inputs, targets = inputs.to(device), targets.to(device)\n",
    "        optim.zero_grad()\n",
    "        outputs = model(inputs)\n",
    "        loss = criterion(outputs, targets)\n",
    "        loss.backward()\n",
    "        optim.step()\n",
    "        _, predicted = outputs.max(1)\n",
    "        train_total += targets.size(0)\n",
    "        train_correct += predicted.eq(targets).sum().item()\n",
    "        # if idx % 100 == 0:\n",
    "        print(\"\\r\", end='')\n",
    "        print(f'training {100 * idx / len(train_loader):.2f}%: {train_correct / train_total:.3f}', end='')\n",
    "    torch.save({\n",
    "        'net': model.state_dict(),\n",
    "    }, \"results/inceptionresnetv2_biggerFCN_linear_epoch{}.pt\".format(i))\n",
    "\n",
    "\n",
    "##test #1:0.038 at 5.06%\n"
   ]
  },
  {
   "cell_type": "markdown",
   "metadata": {},
   "source": [
    "## Domain Adaptation"
   ]
  },
  {
   "cell_type": "code",
   "execution_count": 7,
   "metadata": {},
   "outputs": [],
   "source": [
    "# ## Test time batchnorm update with no prior\n",
    "\n",
    "def update_bn_params(model, val_loader, num_bn_updates, gpu):\n",
    "    val_loader = torch.utils.data.DataLoader(val_loader.dataset,\n",
    "                                             batch_size=val_loader.batch_size,\n",
    "                                             shuffle=True, num_workers=val_loader.num_workers)\n",
    "    def use_test_statistics(module):\n",
    "        if isinstance(module, nn.BatchNorm2d):\n",
    "            module.train()\n",
    "    model = copy.deepcopy(model)\n",
    "    model.eval()\n",
    "    model.apply(use_test_statistics)\n",
    "    print(\"Updating BN params (num updates:{})\".format(num_bn_updates))\n",
    "    with torch.no_grad():\n",
    "        for i, (images, target) in enumerate(val_loader):\n",
    "            if i<num_bn_updates:\n",
    "                images = images.cuda(gpu, non_blocking=True)\n",
    "                output = model(images)\n",
    "    print(\"Done.\")\n",
    "    return model\n"
   ]
  },
  {
   "cell_type": "markdown",
   "metadata": {},
   "source": [
    "## Test Particular Model\n",
    "Run to load particular model onto computer"
   ]
  },
  {
   "cell_type": "code",
   "execution_count": 3,
   "metadata": {},
   "outputs": [],
   "source": [
    "model = torchvision.models.resnet50(pretrained=True)\n",
    "num_ftrs = model.fc.in_features\n",
    "\n",
    "model.fc =  nn.Sequential(\n",
    "                  nn.Linear(num_ftrs, 256), \n",
    "                  nn.ReLU(),\n",
    "                  nn.Linear(256, 256),\n",
    "                  nn.ReLU(),\n",
    "                  nn.Linear(256, 200))\n",
    "checkpoint = torch.load('resnet50-pretrainedaugmix-20epochs-nofreeze-aug.pt')\n",
    "model.load_state_dict(checkpoint['net'])\n",
    "model = model.to(device)\n"
   ]
  },
  {
   "cell_type": "markdown",
   "metadata": {},
   "source": [
    "Run below to evaluate on validation set"
   ]
  },
  {
   "cell_type": "code",
   "execution_count": 11,
   "metadata": {},
   "outputs": [
    {
     "name": "stdout",
     "output_type": "stream",
     "text": [
      "Updating BN params (num updates:128)\n"
     ]
    },
    {
     "name": "stderr",
     "output_type": "stream",
     "text": [
      "\r",
      "  0%|          | 0/313 [00:00<?, ?it/s]"
     ]
    },
    {
     "name": "stdout",
     "output_type": "stream",
     "text": [
      "Done.\n"
     ]
    },
    {
     "name": "stderr",
     "output_type": "stream",
     "text": [
      "100%|██████████| 313/313 [00:04<00:00, 65.97it/s]\n"
     ]
    }
   ],
   "source": [
    "validation_set = torchvision.datasets.ImageFolder(data_dir / 'val', transform_test)\n",
    "val_loader = torch.utils.data.DataLoader(validation_set, batch_size=batch_size,\n",
    "                                           shuffle=True, num_workers=4, pin_memory=True)\n",
    "\n",
    "\n",
    "model = update_bn_params(model, val_loader, 128, device)\n",
    "model.eval()\n",
    "all_preds = []\n",
    "all_labels = []\n",
    "all_losses = []\n",
    "with torch.no_grad():\n",
    "    index = 0\n",
    "    for batch in tqdm.tqdm(val_loader):\n",
    "        inputs = batch[0]\n",
    "        targets = batch[1]\n",
    "        targets = targets.cuda()\n",
    "        inputs = inputs.cuda()\n",
    "        preds = model(inputs)\n",
    "        loss = nn.CrossEntropyLoss()(preds, targets)\n",
    "        all_losses.append(loss.cpu())\n",
    "        all_preds.append(preds.cpu())\n",
    "        all_labels.append(targets.cpu())"
   ]
  },
  {
   "cell_type": "markdown",
   "metadata": {},
   "source": [
    "## Top 1 Accuracy"
   ]
  },
  {
   "cell_type": "code",
   "execution_count": 12,
   "metadata": {},
   "outputs": [
    {
     "name": "stdout",
     "output_type": "stream",
     "text": [
      "Top 1 Validation Accuracy: 0.4967052715654952\n"
     ]
    }
   ],
   "source": [
    "top_preds = [x.argsort(dim=-1)[:,-1:].squeeze() for x in all_preds]\n",
    "correct = 0\n",
    "for idx, batch_preds in enumerate(top_preds):\n",
    "    correct += torch.eq(all_labels[idx], batch_preds).sum()\n",
    "accuracy = correct.item() / (32 * len(all_labels))\n",
    "print(f\"Top 1 Validation Accuracy: {accuracy}\")"
   ]
  },
  {
   "cell_type": "markdown",
   "metadata": {},
   "source": [
    "## Top 3 Accuracy"
   ]
  },
  {
   "cell_type": "code",
   "execution_count": 13,
   "metadata": {},
   "outputs": [
    {
     "name": "stdout",
     "output_type": "stream",
     "text": [
      "Top 3 Validation Accuracy: 0.6687300319488818\n"
     ]
    }
   ],
   "source": [
    "top_preds = [x.argsort(dim=-1)[:,-3:] for x in all_preds]\n",
    "correct = 0\n",
    "for idx, batch_preds in enumerate(top_preds):\n",
    "    correct += torch.eq(all_labels[idx], batch_preds[:,0:1].squeeze()).sum()\n",
    "    correct += torch.eq(all_labels[idx], batch_preds[:,1:2].squeeze()).sum()\n",
    "\n",
    "    correct += torch.eq(all_labels[idx], batch_preds[:,2:3].squeeze()).sum()\n",
    "\n",
    "accuracy = correct.item() / (32 * len(all_labels))\n",
    "print(f\"Top 3 Validation Accuracy: {accuracy}\")"
   ]
  },
  {
   "cell_type": "code",
   "execution_count": null,
   "metadata": {},
   "outputs": [],
   "source": [
    "## with BN update: top 1: 39.3% top 3: 57.96%\n",
    "## without BN update"
   ]
  }
 ],
 "metadata": {
  "kernelspec": {
   "display_name": "Python 3.7",
   "language": "python",
   "name": "python3.7"
  },
  "language_info": {
   "codemirror_mode": {
    "name": "ipython",
    "version": 3
   },
   "file_extension": ".py",
   "mimetype": "text/x-python",
   "name": "python",
   "nbconvert_exporter": "python",
   "pygments_lexer": "ipython3",
   "version": "3.7.5"
  }
 },
 "nbformat": 4,
 "nbformat_minor": 4
}
